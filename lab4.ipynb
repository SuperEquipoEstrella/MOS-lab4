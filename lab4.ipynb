{
 "cells": [
  {
   "cell_type": "markdown",
   "metadata": {},
   "source": [
    "# **Laboratorio 4**"
   ]
  },
  {
   "cell_type": "markdown",
   "metadata": {},
   "source": [
    "Angélica Ortiz - 202222480 \n",
    "<br>\n",
    "María José Amorocho - 202220179"
   ]
  },
  {
   "cell_type": "markdown",
   "metadata": {},
   "source": [
    "# Importaciones"
   ]
  },
  {
   "cell_type": "code",
   "execution_count": 43,
   "metadata": {},
   "outputs": [],
   "source": [
    "#importaciones\n",
    "import numpy as np\n",
    "from tabulate import tabulate"
   ]
  },
  {
   "cell_type": "markdown",
   "metadata": {},
   "source": [
    "# Problema 1 - Implementación del Método Simplex Estándar"
   ]
  },
  {
   "cell_type": "markdown",
   "metadata": {},
   "source": [
    "## Implementación"
   ]
  },
  {
   "cell_type": "code",
   "execution_count": 51,
   "metadata": {},
   "outputs": [],
   "source": [
    "def simplex_con_iteraciones(A, b, c, imprimir=True, modo='max'):\n",
    "    \"\"\"\n",
    "    Implementa el Método Simplex y retorna los valores finales \n",
    "    de todas las variables (originales y de holgura).\n",
    "    \n",
    "    Máx  z = c^T x\n",
    "    s.a. A x <= b\n",
    "         x >= 0\n",
    "\n",
    "    Parámetros:\n",
    "    -----------\n",
    "    A :  Matriz de coeficientes de las restricciones (m x n)\n",
    "    b :  Vector de términos independientes (m,1)\n",
    "    c :  Vector de coeficientes de la función objetivo (n,)\n",
    "    imprimir : Si es True, se imprime la tabla y detalles en cada iteración\n",
    "    modo: si es problema de maximización (max) o minimización (min)\n",
    "\n",
    "    Retorna:\n",
    "    --------\n",
    "    resultados : Diccionario con los valores finales de las variables originales y de holgura.\n",
    "    z_opt : Valor óptimo de la función objetivo.\n",
    "    \"\"\"\n",
    "    # Establecer numero de restricciones y de variables\n",
    "    m, n = A.shape\n",
    "    \n",
    "    # Si es un problema de minimización, convertirlo a maximización\n",
    "    if modo == 'min':\n",
    "        c = -c\n",
    "    \n",
    "    # Establecer matriz de identidad para variables de holgura\n",
    "    I = np.eye(m)\n",
    "    \n",
    "    # Construccion de la matriz A con las variables de holgura incluidas\n",
    "    A_ext = np.hstack([A, I]) #matriz de tamaño m x (n+m)\n",
    "    \n",
    "    #Extender el vector c para incluir las variables de holgura\n",
    "    c_ext = np.concatenate([c, np.zeros(m)])\n",
    "    \n",
    "    # Construir la tabla: dimensiones (m+1) x (n+m+1)\n",
    "    # (m+1) filas > m restricciones + 1 fila de función objetivo\n",
    "    # (n+m+1) columnas > n+m variables (originales y de holgura) + 1columna para terminos independientes (b)\n",
    "    matriz_simplex = np.zeros((m+1, n+m+1))\n",
    "    \n",
    "    # Llenar las filas de restricciones\n",
    "    for i in range(m):\n",
    "        matriz_simplex[i, :-1] = A_ext[i]\n",
    "        matriz_simplex[i, -1]  = b[i]\n",
    "    \n",
    "    # Fila de la función objetivo (utilizando -c para la maximización)\n",
    "    matriz_simplex[-1, :-1] = -c_ext\n",
    "    \n",
    "    # iniciar las iteraciones\n",
    "    iteracion = 0\n",
    "    while True:\n",
    "        if imprimir:\n",
    "            print(f\"Iteración {iteracion}:\")\n",
    "            print(tabulate(matriz_simplex, floatfmt=\".3f\", tablefmt=\"grid\"))\n",
    "            print(\"-\" * 50)\n",
    "        \n",
    "        # 1. Buscar la columna pivote (más negativa en la fila de la función objetivo)\n",
    "        fila_objetivo = matriz_simplex[-1, :-1]\n",
    "        col_in = np.argmin(fila_objetivo)\n",
    "        valor_min = fila_objetivo[col_in]\n",
    "        \n",
    "        # si todos los valores en la fila de la función objetivo son positivos se ha encontrado el optimo\n",
    "        if valor_min >= 0:\n",
    "            if imprimir:\n",
    "                print(\"Óptimo alcanzado.\")\n",
    "            break  # Solución óptima alcanzada\n",
    "        \n",
    "        # 2. Seleccionar la fila pivote usando el cociente mínimo\n",
    "        columna_pivote = matriz_simplex[:-1, col_in]\n",
    "        b_column = matriz_simplex[:-1, -1]\n",
    "        \n",
    "        # calcular las divisiones o razones\n",
    "        razones = []\n",
    "        for i in range(m):\n",
    "            if columna_pivote[i] > 1e-15: # manejar divisiones por cero o muy pequeñas\n",
    "                razones.append(b_column[i] / columna_pivote[i])\n",
    "            else:\n",
    "                razones.append(np.inf)\n",
    "                \n",
    "         # La fila con la razón mínima es la que sale de la base\n",
    "        fila_out = np.argmin(razones)\n",
    "        if razones[fila_out] == np.inf:\n",
    "            # Problema no acotado > cuando todas las razones calculadas dan infinito\n",
    "            raise ValueError(\"El problema es no acotado.\")\n",
    "        \n",
    "        if imprimir:\n",
    "            print(f\"Columna que entra: {col_in+1}\")\n",
    "            print(f\"Fila que sale: {fila_out+1}\")\n",
    "            print(f\"Valor pivote: {matriz_simplex[fila_out, col_in]}\")\n",
    "        \n",
    "        # 3. normalizar la fila pivote para que el elemento pivote sea 1\n",
    "        pivote = matriz_simplex[fila_out, col_in]\n",
    "        matriz_simplex[fila_out, :] /= pivote\n",
    "        \n",
    "        # Copnvetir en ceros en el resto de la columna pivote\n",
    "        for i in range(m+1):\n",
    "            if i != fila_out:\n",
    "                factor = matriz_simplex[i, col_in]\n",
    "                matriz_simplex[i, :] -= factor * matriz_simplex[fila_out, :]\n",
    "        \n",
    "        iteracion += 1\n",
    "        \n",
    "    # Valor óptimo obtenido en la tabla\n",
    "    z_opt = matriz_simplex[-1, -1]\n",
    "    # Para problemas de minimización, revertir el signo del óptimo\n",
    "    if modo == 'min':\n",
    "        z_opt = -z_opt\n",
    "    \n",
    "    return matriz_simplex, z_opt\n",
    "\n",
    "def extraer_resultados_simplex(matriz_simplex, A):\n",
    "    m, n = A.shape\n",
    "    \n",
    "    # Extraer la solución óptima > se revisan todas las columnas (originales + holgura)\n",
    "    x_opt = np.zeros(n + m)\n",
    "    for col_index in range(n + m):\n",
    "        # Extraer la columna correspondiente a las filas de restricciones\n",
    "        col = matriz_simplex[:m, col_index]\n",
    "        # verificar si es columna canónica (un 1 y el resto 0's)\n",
    "        if np.count_nonzero(col) == 1 and np.isclose(np.max(col), 1.0):\n",
    "            row_index = np.argmax(col)\n",
    "            x_opt[col_index] = matriz_simplex[row_index, -1]\n",
    "    \n",
    "    # diccionario para diferenciar variables originales y de holgura\n",
    "    resultados = {}\n",
    "    for i in range(n):\n",
    "        resultados[f'x{i+1}'] = x_opt[i]\n",
    "    for i in range(m):\n",
    "        resultados[f's{i+1}'] = x_opt[n + i]\n",
    "    \n",
    "    return resultados\n",
    "    \n",
    "    "
   ]
  },
  {
   "cell_type": "markdown",
   "metadata": {},
   "source": [
    "## Primera ejecución"
   ]
  },
  {
   "cell_type": "code",
   "execution_count": 55,
   "metadata": {},
   "outputs": [
    {
     "name": "stdout",
     "output_type": "stream",
     "text": [
      "Iteración 0:\n",
      "+--------+--------+--------+--------+--------+--------+---------+\n",
      "|  1.000 |  1.000 |  1.000 |  1.000 |  0.000 |  0.000 | 100.000 |\n",
      "+--------+--------+--------+--------+--------+--------+---------+\n",
      "|  2.000 |  1.000 |  1.000 |  0.000 |  1.000 |  0.000 | 150.000 |\n",
      "+--------+--------+--------+--------+--------+--------+---------+\n",
      "|  1.000 |  4.000 |  2.000 |  0.000 |  0.000 |  1.000 |  80.000 |\n",
      "+--------+--------+--------+--------+--------+--------+---------+\n",
      "| -3.000 | -2.000 | -5.000 | -0.000 | -0.000 | -0.000 |   0.000 |\n",
      "+--------+--------+--------+--------+--------+--------+---------+\n",
      "--------------------------------------------------\n",
      "Columna que entra: 3\n",
      "Fila que sale: 3\n",
      "Valor pivote: 2.0\n",
      "Iteración 1:\n",
      "+--------+--------+-------+-------+-------+--------+---------+\n",
      "|  0.500 | -1.000 | 0.000 | 1.000 | 0.000 | -0.500 |  60.000 |\n",
      "+--------+--------+-------+-------+-------+--------+---------+\n",
      "|  1.500 | -1.000 | 0.000 | 0.000 | 1.000 | -0.500 | 110.000 |\n",
      "+--------+--------+-------+-------+-------+--------+---------+\n",
      "|  0.500 |  2.000 | 1.000 | 0.000 | 0.000 |  0.500 |  40.000 |\n",
      "+--------+--------+-------+-------+-------+--------+---------+\n",
      "| -0.500 |  8.000 | 0.000 | 0.000 | 0.000 |  2.500 | 200.000 |\n",
      "+--------+--------+-------+-------+-------+--------+---------+\n",
      "--------------------------------------------------\n",
      "Columna que entra: 1\n",
      "Fila que sale: 2\n",
      "Valor pivote: 1.5\n",
      "Iteración 2:\n",
      "+-------+--------+-------+-------+--------+--------+---------+\n",
      "| 0.000 | -0.667 | 0.000 | 1.000 | -0.333 | -0.333 |  23.333 |\n",
      "+-------+--------+-------+-------+--------+--------+---------+\n",
      "| 1.000 | -0.667 | 0.000 | 0.000 |  0.667 | -0.333 |  73.333 |\n",
      "+-------+--------+-------+-------+--------+--------+---------+\n",
      "| 0.000 |  2.333 | 1.000 | 0.000 | -0.333 |  0.667 |   3.333 |\n",
      "+-------+--------+-------+-------+--------+--------+---------+\n",
      "| 0.000 |  7.667 | 0.000 | 0.000 |  0.333 |  2.333 | 236.667 |\n",
      "+-------+--------+-------+-------+--------+--------+---------+\n",
      "--------------------------------------------------\n",
      "Óptimo alcanzado.\n",
      "\n",
      "Valor final de las variables:\n",
      "> x1: 73.333\n",
      "> x2: 0.0\n",
      "> x3: 3.333\n",
      "> s1: 23.333\n",
      "> s2: 0.0\n",
      "> s3: 0.0\n",
      "Valor óptimo de la función objetivo: 236.667\n"
     ]
    }
   ],
   "source": [
    "# Ejemplo:\n",
    "# Máx z = 3x1 + 2x2 + 5x3\n",
    "# Restricciones\n",
    "#   x1  +  x2  +  x3 <= 100\n",
    "#   2x1 +  x2  +  x3 <= 150\n",
    "#   x1  +  4x2 + 2x3 <= 80\n",
    "# x1, x2, x3 >= 0\n",
    "\n",
    "A = np.array([\n",
    "    [1, 1, 1],\n",
    "    [2, 1, 1],\n",
    "    [1, 4, 2]\n",
    "], dtype=float)\n",
    "\n",
    "b = np.array([100, 150, 80], dtype=float)\n",
    "c = np.array([3, 2, 5], dtype=float)\n",
    "\n",
    "matriz_simplex, valor_objetivo = simplex_con_iteraciones(A, b, c, imprimir=True, modo='max')\n",
    "solucion = extraer_resultados_simplex(matriz_simplex, A)\n",
    "\n",
    "print(\"\\nValor final de las variables:\")\n",
    "for i in solucion:\n",
    "    print(f'> {i}: {round(solucion[i], 3)}')\n",
    "print(\"Valor óptimo de la función objetivo:\", round(valor_objetivo, 3))"
   ]
  },
  {
   "cell_type": "markdown",
   "metadata": {},
   "source": [
    "## Segunda ejecución"
   ]
  },
  {
   "cell_type": "markdown",
   "metadata": {},
   "source": [
    "En esta ejecución, los coeficientes de la función objetivo son modificados con el fin de, posteriormente, hacer un análisis de sensibilidad"
   ]
  },
  {
   "cell_type": "code",
   "execution_count": 56,
   "metadata": {},
   "outputs": [
    {
     "name": "stdout",
     "output_type": "stream",
     "text": [
      "\n",
      "Valor final de las variables:\n",
      "> x1: 73.333\n",
      "> x2: 0.0\n",
      "> x3: 3.333\n",
      "> s1: 23.333\n",
      "> s2: 0.0\n",
      "> s3: 0.0\n",
      "Valor óptimo de la función objetivo: 198.333\n"
     ]
    }
   ],
   "source": [
    "# Ejemplo:\n",
    "# Máx z = 2.5x1 + 1.5x2 + 4.5x3\n",
    "# Restricciones\n",
    "#   x1  +  x2  +  x3 <= 100\n",
    "#   2x1 +  x2  +  x3 <= 150\n",
    "#   x1  +  4x2 + 2x3 <= 80\n",
    "# x1, x2, x3 >= 0\n",
    "\n",
    "A = np.array([\n",
    "    [1, 1, 1],\n",
    "    [2, 1, 1],\n",
    "    [1, 4, 2]\n",
    "], dtype=float)\n",
    "\n",
    "b = np.array([100, 150, 80], dtype=float)\n",
    "c = np.array([2.5, 1.5, 4.5], dtype=float)\n",
    "\n",
    "matriz_simplex, valor_objetivo = simplex_con_iteraciones(A, b, c, imprimir=False, modo='max')\n",
    "solucion = extraer_resultados_simplex(matriz_simplex, A)\n",
    "print(\"\\nValor final de las variables:\")\n",
    "for i in solucion:\n",
    "    print(f'> {i}: {round(solucion[i], 3)}')\n",
    "print(\"Valor óptimo de la función objetivo:\", round(valor_objetivo, 3))"
   ]
  },
  {
   "cell_type": "markdown",
   "metadata": {},
   "source": [
    "## Tercera ejecución"
   ]
  },
  {
   "cell_type": "markdown",
   "metadata": {},
   "source": [
    "En esta ejecución los términos independientes que afectan la solución son modificados"
   ]
  },
  {
   "cell_type": "code",
   "execution_count": 57,
   "metadata": {},
   "outputs": [
    {
     "name": "stdout",
     "output_type": "stream",
     "text": [
      "\n",
      "Valor final de las variables:\n",
      "> x1: 72.667\n",
      "> x2: 0.0\n",
      "> x3: 2.667\n",
      "> s1: 22.667\n",
      "> s2: 0.0\n",
      "> s3: 0.0\n",
      "Valor óptimo de la función objetivo: 231.333\n"
     ]
    }
   ],
   "source": [
    "# Ejemplo:\n",
    "# Máx z = 3x1 + 2x2 + 5x3\n",
    "# Restricciones\n",
    "#   x1  +  x2  +  x3 <= 98\n",
    "#   2x1 +  x2  +  x3 <= 148\n",
    "#   x1  +  4x2 + 2x3 <= 78\n",
    "# x1, x2, x3 >= 0\n",
    "\n",
    "A = np.array([\n",
    "    [1, 1, 1],\n",
    "    [2, 1, 1],\n",
    "    [1, 4, 2]\n",
    "], dtype=float)\n",
    "\n",
    "b = np.array([98, 148, 78], dtype=float)\n",
    "c = np.array([3, 2, 5], dtype=float)\n",
    "\n",
    "matriz_simplex, valor_objetivo = simplex_con_iteraciones(A, b, c, imprimir=False, modo='max')\n",
    "solucion = extraer_resultados_simplex(matriz_simplex, A)\n",
    "print(\"\\nValor final de las variables:\")\n",
    "for i in solucion:\n",
    "    print(f'> {i}: {round(solucion[i], 3)}')\n",
    "print(\"Valor óptimo de la función objetivo:\", round(valor_objetivo, 3))"
   ]
  },
  {
   "cell_type": "markdown",
   "metadata": {},
   "source": [
    "# Problema 2 - Implementación del Método Simplex Dual Phase"
   ]
  },
  {
   "cell_type": "markdown",
   "metadata": {},
   "source": [
    "# Problema 3 - Comparación de Rendimiento con GLPK/Pyomo"
   ]
  },
  {
   "cell_type": "code",
   "execution_count": null,
   "metadata": {},
   "outputs": [],
   "source": []
  },
  {
   "cell_type": "markdown",
   "metadata": {},
   "source": [
    "# Problema 4 - Análisis de Sensibilidad en Programación Lineal"
   ]
  },
  {
   "cell_type": "markdown",
   "metadata": {},
   "source": [
    "## Análisis de Sensibilidad para Coeficientes de la Función Objetivo"
   ]
  },
  {
   "cell_type": "code",
   "execution_count": null,
   "metadata": {},
   "outputs": [],
   "source": []
  },
  {
   "cell_type": "markdown",
   "metadata": {},
   "source": [
    "## Análisis de Sensibilidad para Términos Independientes"
   ]
  }
 ],
 "metadata": {
  "kernelspec": {
   "display_name": "pyomo_env",
   "language": "python",
   "name": "python3"
  },
  "language_info": {
   "codemirror_mode": {
    "name": "ipython",
    "version": 3
   },
   "file_extension": ".py",
   "mimetype": "text/x-python",
   "name": "python",
   "nbconvert_exporter": "python",
   "pygments_lexer": "ipython3",
   "version": "3.9.21"
  }
 },
 "nbformat": 4,
 "nbformat_minor": 2
}
